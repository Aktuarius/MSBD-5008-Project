{
  "nbformat": 4,
  "nbformat_minor": 0,
  "metadata": {
    "colab": {
      "provenance": [],
      "authorship_tag": "ABX9TyPN3FQnXe/R/9fjaZwhcgnq",
      "include_colab_link": true
    },
    "kernelspec": {
      "name": "python3",
      "display_name": "Python 3"
    },
    "language_info": {
      "name": "python"
    },
    "widgets": {
      "application/vnd.jupyter.widget-state+json": {
        "7dcc1baa4bfd4c6eabe3772e807219a0": {
          "model_module": "@jupyter-widgets/controls",
          "model_name": "HBoxModel",
          "model_module_version": "1.5.0",
          "state": {
            "_dom_classes": [],
            "_model_module": "@jupyter-widgets/controls",
            "_model_module_version": "1.5.0",
            "_model_name": "HBoxModel",
            "_view_count": null,
            "_view_module": "@jupyter-widgets/controls",
            "_view_module_version": "1.5.0",
            "_view_name": "HBoxView",
            "box_style": "",
            "children": [
              "IPY_MODEL_dc70efe8653249a785bf94c79e0f3018",
              "IPY_MODEL_c1e73b5376b3489d8b84f30b44f17ffa",
              "IPY_MODEL_74ebc4f6439c45fdb9be6b4e9f671d08"
            ],
            "layout": "IPY_MODEL_f626ff74b5604c3a96537c7af615303b"
          }
        },
        "dc70efe8653249a785bf94c79e0f3018": {
          "model_module": "@jupyter-widgets/controls",
          "model_name": "HTMLModel",
          "model_module_version": "1.5.0",
          "state": {
            "_dom_classes": [],
            "_model_module": "@jupyter-widgets/controls",
            "_model_module_version": "1.5.0",
            "_model_name": "HTMLModel",
            "_view_count": null,
            "_view_module": "@jupyter-widgets/controls",
            "_view_module_version": "1.5.0",
            "_view_name": "HTMLView",
            "description": "",
            "description_tooltip": null,
            "layout": "IPY_MODEL_900dfc42d02149d994a327e5c63cda7c",
            "placeholder": "​",
            "style": "IPY_MODEL_01431ca6effc4fa6bafcebeb9ee4f0b8",
            "value": "/root/.dgl/amazon.zip: 100%"
          }
        },
        "c1e73b5376b3489d8b84f30b44f17ffa": {
          "model_module": "@jupyter-widgets/controls",
          "model_name": "FloatProgressModel",
          "model_module_version": "1.5.0",
          "state": {
            "_dom_classes": [],
            "_model_module": "@jupyter-widgets/controls",
            "_model_module_version": "1.5.0",
            "_model_name": "FloatProgressModel",
            "_view_count": null,
            "_view_module": "@jupyter-widgets/controls",
            "_view_module_version": "1.5.0",
            "_view_name": "ProgressView",
            "bar_style": "success",
            "description": "",
            "description_tooltip": null,
            "layout": "IPY_MODEL_371bdaba8c414f14879f917c34bdfcd8",
            "max": 26122297,
            "min": 0,
            "orientation": "horizontal",
            "style": "IPY_MODEL_7efc039c9c834d3fb86372c2b245aaf1",
            "value": 26122297
          }
        },
        "74ebc4f6439c45fdb9be6b4e9f671d08": {
          "model_module": "@jupyter-widgets/controls",
          "model_name": "HTMLModel",
          "model_module_version": "1.5.0",
          "state": {
            "_dom_classes": [],
            "_model_module": "@jupyter-widgets/controls",
            "_model_module_version": "1.5.0",
            "_model_name": "HTMLModel",
            "_view_count": null,
            "_view_module": "@jupyter-widgets/controls",
            "_view_module_version": "1.5.0",
            "_view_name": "HTMLView",
            "description": "",
            "description_tooltip": null,
            "layout": "IPY_MODEL_340b383ba86044db8f29627ac59447fb",
            "placeholder": "​",
            "style": "IPY_MODEL_94735e82497b4e7b91b8e04862c4bbb8",
            "value": " 26.1M/26.1M [00:00&lt;00:00, 35.1MB/s]"
          }
        },
        "f626ff74b5604c3a96537c7af615303b": {
          "model_module": "@jupyter-widgets/base",
          "model_name": "LayoutModel",
          "model_module_version": "1.2.0",
          "state": {
            "_model_module": "@jupyter-widgets/base",
            "_model_module_version": "1.2.0",
            "_model_name": "LayoutModel",
            "_view_count": null,
            "_view_module": "@jupyter-widgets/base",
            "_view_module_version": "1.2.0",
            "_view_name": "LayoutView",
            "align_content": null,
            "align_items": null,
            "align_self": null,
            "border": null,
            "bottom": null,
            "display": null,
            "flex": null,
            "flex_flow": null,
            "grid_area": null,
            "grid_auto_columns": null,
            "grid_auto_flow": null,
            "grid_auto_rows": null,
            "grid_column": null,
            "grid_gap": null,
            "grid_row": null,
            "grid_template_areas": null,
            "grid_template_columns": null,
            "grid_template_rows": null,
            "height": null,
            "justify_content": null,
            "justify_items": null,
            "left": null,
            "margin": null,
            "max_height": null,
            "max_width": null,
            "min_height": null,
            "min_width": null,
            "object_fit": null,
            "object_position": null,
            "order": null,
            "overflow": null,
            "overflow_x": null,
            "overflow_y": null,
            "padding": null,
            "right": null,
            "top": null,
            "visibility": null,
            "width": null
          }
        },
        "900dfc42d02149d994a327e5c63cda7c": {
          "model_module": "@jupyter-widgets/base",
          "model_name": "LayoutModel",
          "model_module_version": "1.2.0",
          "state": {
            "_model_module": "@jupyter-widgets/base",
            "_model_module_version": "1.2.0",
            "_model_name": "LayoutModel",
            "_view_count": null,
            "_view_module": "@jupyter-widgets/base",
            "_view_module_version": "1.2.0",
            "_view_name": "LayoutView",
            "align_content": null,
            "align_items": null,
            "align_self": null,
            "border": null,
            "bottom": null,
            "display": null,
            "flex": null,
            "flex_flow": null,
            "grid_area": null,
            "grid_auto_columns": null,
            "grid_auto_flow": null,
            "grid_auto_rows": null,
            "grid_column": null,
            "grid_gap": null,
            "grid_row": null,
            "grid_template_areas": null,
            "grid_template_columns": null,
            "grid_template_rows": null,
            "height": null,
            "justify_content": null,
            "justify_items": null,
            "left": null,
            "margin": null,
            "max_height": null,
            "max_width": null,
            "min_height": null,
            "min_width": null,
            "object_fit": null,
            "object_position": null,
            "order": null,
            "overflow": null,
            "overflow_x": null,
            "overflow_y": null,
            "padding": null,
            "right": null,
            "top": null,
            "visibility": null,
            "width": null
          }
        },
        "01431ca6effc4fa6bafcebeb9ee4f0b8": {
          "model_module": "@jupyter-widgets/controls",
          "model_name": "DescriptionStyleModel",
          "model_module_version": "1.5.0",
          "state": {
            "_model_module": "@jupyter-widgets/controls",
            "_model_module_version": "1.5.0",
            "_model_name": "DescriptionStyleModel",
            "_view_count": null,
            "_view_module": "@jupyter-widgets/base",
            "_view_module_version": "1.2.0",
            "_view_name": "StyleView",
            "description_width": ""
          }
        },
        "371bdaba8c414f14879f917c34bdfcd8": {
          "model_module": "@jupyter-widgets/base",
          "model_name": "LayoutModel",
          "model_module_version": "1.2.0",
          "state": {
            "_model_module": "@jupyter-widgets/base",
            "_model_module_version": "1.2.0",
            "_model_name": "LayoutModel",
            "_view_count": null,
            "_view_module": "@jupyter-widgets/base",
            "_view_module_version": "1.2.0",
            "_view_name": "LayoutView",
            "align_content": null,
            "align_items": null,
            "align_self": null,
            "border": null,
            "bottom": null,
            "display": null,
            "flex": null,
            "flex_flow": null,
            "grid_area": null,
            "grid_auto_columns": null,
            "grid_auto_flow": null,
            "grid_auto_rows": null,
            "grid_column": null,
            "grid_gap": null,
            "grid_row": null,
            "grid_template_areas": null,
            "grid_template_columns": null,
            "grid_template_rows": null,
            "height": null,
            "justify_content": null,
            "justify_items": null,
            "left": null,
            "margin": null,
            "max_height": null,
            "max_width": null,
            "min_height": null,
            "min_width": null,
            "object_fit": null,
            "object_position": null,
            "order": null,
            "overflow": null,
            "overflow_x": null,
            "overflow_y": null,
            "padding": null,
            "right": null,
            "top": null,
            "visibility": null,
            "width": null
          }
        },
        "7efc039c9c834d3fb86372c2b245aaf1": {
          "model_module": "@jupyter-widgets/controls",
          "model_name": "ProgressStyleModel",
          "model_module_version": "1.5.0",
          "state": {
            "_model_module": "@jupyter-widgets/controls",
            "_model_module_version": "1.5.0",
            "_model_name": "ProgressStyleModel",
            "_view_count": null,
            "_view_module": "@jupyter-widgets/base",
            "_view_module_version": "1.2.0",
            "_view_name": "StyleView",
            "bar_color": null,
            "description_width": ""
          }
        },
        "340b383ba86044db8f29627ac59447fb": {
          "model_module": "@jupyter-widgets/base",
          "model_name": "LayoutModel",
          "model_module_version": "1.2.0",
          "state": {
            "_model_module": "@jupyter-widgets/base",
            "_model_module_version": "1.2.0",
            "_model_name": "LayoutModel",
            "_view_count": null,
            "_view_module": "@jupyter-widgets/base",
            "_view_module_version": "1.2.0",
            "_view_name": "LayoutView",
            "align_content": null,
            "align_items": null,
            "align_self": null,
            "border": null,
            "bottom": null,
            "display": null,
            "flex": null,
            "flex_flow": null,
            "grid_area": null,
            "grid_auto_columns": null,
            "grid_auto_flow": null,
            "grid_auto_rows": null,
            "grid_column": null,
            "grid_gap": null,
            "grid_row": null,
            "grid_template_areas": null,
            "grid_template_columns": null,
            "grid_template_rows": null,
            "height": null,
            "justify_content": null,
            "justify_items": null,
            "left": null,
            "margin": null,
            "max_height": null,
            "max_width": null,
            "min_height": null,
            "min_width": null,
            "object_fit": null,
            "object_position": null,
            "order": null,
            "overflow": null,
            "overflow_x": null,
            "overflow_y": null,
            "padding": null,
            "right": null,
            "top": null,
            "visibility": null,
            "width": null
          }
        },
        "94735e82497b4e7b91b8e04862c4bbb8": {
          "model_module": "@jupyter-widgets/controls",
          "model_name": "DescriptionStyleModel",
          "model_module_version": "1.5.0",
          "state": {
            "_model_module": "@jupyter-widgets/controls",
            "_model_module_version": "1.5.0",
            "_model_name": "DescriptionStyleModel",
            "_view_count": null,
            "_view_module": "@jupyter-widgets/base",
            "_view_module_version": "1.2.0",
            "_view_name": "StyleView",
            "description_width": ""
          }
        }
      }
    }
  },
  "cells": [
    {
      "cell_type": "markdown",
      "metadata": {
        "id": "view-in-github",
        "colab_type": "text"
      },
      "source": [
        "<a href=\"https://colab.research.google.com/github/Aktuarius/MSBD-5008-Project/blob/main/5008_Project_NN.ipynb\" target=\"_parent\"><img src=\"https://colab.research.google.com/assets/colab-badge.svg\" alt=\"Open In Colab\"/></a>"
      ]
    },
    {
      "cell_type": "code",
      "execution_count": 27,
      "metadata": {
        "id": "W1qnUuhG4i6d",
        "colab": {
          "base_uri": "https://localhost:8080/"
        },
        "outputId": "627150b3-7a8d-4545-a63c-a3800d72fd14"
      },
      "outputs": [
        {
          "output_type": "stream",
          "name": "stdout",
          "text": [
            "Requirement already satisfied: dgl in /usr/local/lib/python3.10/dist-packages (2.1.0)\n",
            "Requirement already satisfied: numpy>=1.14.0 in /usr/local/lib/python3.10/dist-packages (from dgl) (1.25.2)\n",
            "Requirement already satisfied: scipy>=1.1.0 in /usr/local/lib/python3.10/dist-packages (from dgl) (1.11.4)\n",
            "Requirement already satisfied: networkx>=2.1 in /usr/local/lib/python3.10/dist-packages (from dgl) (3.3)\n",
            "Requirement already satisfied: requests>=2.19.0 in /usr/local/lib/python3.10/dist-packages (from dgl) (2.31.0)\n",
            "Requirement already satisfied: tqdm in /usr/local/lib/python3.10/dist-packages (from dgl) (4.66.2)\n",
            "Requirement already satisfied: psutil>=5.8.0 in /usr/local/lib/python3.10/dist-packages (from dgl) (5.9.5)\n",
            "Requirement already satisfied: torchdata>=0.5.0 in /usr/local/lib/python3.10/dist-packages (from dgl) (0.7.1)\n",
            "Requirement already satisfied: charset-normalizer<4,>=2 in /usr/local/lib/python3.10/dist-packages (from requests>=2.19.0->dgl) (3.3.2)\n",
            "Requirement already satisfied: idna<4,>=2.5 in /usr/local/lib/python3.10/dist-packages (from requests>=2.19.0->dgl) (3.7)\n",
            "Requirement already satisfied: urllib3<3,>=1.21.1 in /usr/local/lib/python3.10/dist-packages (from requests>=2.19.0->dgl) (2.0.7)\n",
            "Requirement already satisfied: certifi>=2017.4.17 in /usr/local/lib/python3.10/dist-packages (from requests>=2.19.0->dgl) (2024.2.2)\n",
            "Requirement already satisfied: torch>=2 in /usr/local/lib/python3.10/dist-packages (from torchdata>=0.5.0->dgl) (2.2.1+cu121)\n",
            "Requirement already satisfied: filelock in /usr/local/lib/python3.10/dist-packages (from torch>=2->torchdata>=0.5.0->dgl) (3.13.4)\n",
            "Requirement already satisfied: typing-extensions>=4.8.0 in /usr/local/lib/python3.10/dist-packages (from torch>=2->torchdata>=0.5.0->dgl) (4.11.0)\n",
            "Requirement already satisfied: sympy in /usr/local/lib/python3.10/dist-packages (from torch>=2->torchdata>=0.5.0->dgl) (1.12)\n",
            "Requirement already satisfied: jinja2 in /usr/local/lib/python3.10/dist-packages (from torch>=2->torchdata>=0.5.0->dgl) (3.1.3)\n",
            "Requirement already satisfied: fsspec in /usr/local/lib/python3.10/dist-packages (from torch>=2->torchdata>=0.5.0->dgl) (2023.6.0)\n",
            "Requirement already satisfied: nvidia-cuda-nvrtc-cu12==12.1.105 in /usr/local/lib/python3.10/dist-packages (from torch>=2->torchdata>=0.5.0->dgl) (12.1.105)\n",
            "Requirement already satisfied: nvidia-cuda-runtime-cu12==12.1.105 in /usr/local/lib/python3.10/dist-packages (from torch>=2->torchdata>=0.5.0->dgl) (12.1.105)\n",
            "Requirement already satisfied: nvidia-cuda-cupti-cu12==12.1.105 in /usr/local/lib/python3.10/dist-packages (from torch>=2->torchdata>=0.5.0->dgl) (12.1.105)\n",
            "Requirement already satisfied: nvidia-cudnn-cu12==8.9.2.26 in /usr/local/lib/python3.10/dist-packages (from torch>=2->torchdata>=0.5.0->dgl) (8.9.2.26)\n",
            "Requirement already satisfied: nvidia-cublas-cu12==12.1.3.1 in /usr/local/lib/python3.10/dist-packages (from torch>=2->torchdata>=0.5.0->dgl) (12.1.3.1)\n",
            "Requirement already satisfied: nvidia-cufft-cu12==11.0.2.54 in /usr/local/lib/python3.10/dist-packages (from torch>=2->torchdata>=0.5.0->dgl) (11.0.2.54)\n",
            "Requirement already satisfied: nvidia-curand-cu12==10.3.2.106 in /usr/local/lib/python3.10/dist-packages (from torch>=2->torchdata>=0.5.0->dgl) (10.3.2.106)\n",
            "Requirement already satisfied: nvidia-cusolver-cu12==11.4.5.107 in /usr/local/lib/python3.10/dist-packages (from torch>=2->torchdata>=0.5.0->dgl) (11.4.5.107)\n",
            "Requirement already satisfied: nvidia-cusparse-cu12==12.1.0.106 in /usr/local/lib/python3.10/dist-packages (from torch>=2->torchdata>=0.5.0->dgl) (12.1.0.106)\n",
            "Requirement already satisfied: nvidia-nccl-cu12==2.19.3 in /usr/local/lib/python3.10/dist-packages (from torch>=2->torchdata>=0.5.0->dgl) (2.19.3)\n",
            "Requirement already satisfied: nvidia-nvtx-cu12==12.1.105 in /usr/local/lib/python3.10/dist-packages (from torch>=2->torchdata>=0.5.0->dgl) (12.1.105)\n",
            "Requirement already satisfied: triton==2.2.0 in /usr/local/lib/python3.10/dist-packages (from torch>=2->torchdata>=0.5.0->dgl) (2.2.0)\n",
            "Requirement already satisfied: nvidia-nvjitlink-cu12 in /usr/local/lib/python3.10/dist-packages (from nvidia-cusolver-cu12==11.4.5.107->torch>=2->torchdata>=0.5.0->dgl) (12.4.127)\n",
            "Requirement already satisfied: MarkupSafe>=2.0 in /usr/local/lib/python3.10/dist-packages (from jinja2->torch>=2->torchdata>=0.5.0->dgl) (2.1.5)\n",
            "Requirement already satisfied: mpmath>=0.19 in /usr/local/lib/python3.10/dist-packages (from sympy->torch>=2->torchdata>=0.5.0->dgl) (1.3.0)\n"
          ]
        }
      ],
      "source": [
        "# Install required packages\n",
        "!pip install dgl\n",
        "\n",
        "# Load necessary packages\n",
        "import dgl\n",
        "import numpy as np\n",
        "import torch\n",
        "import torch.nn as nn\n",
        "import torch.nn.functional as F\n",
        "from sklearn.metrics import accuracy_score, precision_score, recall_score, roc_auc_score, f1_score"
      ]
    },
    {
      "cell_type": "code",
      "source": [
        "# Load dataset\n",
        "\n",
        "# https://paperswithcode.com/dataset/amazon-fraud\n",
        "\n",
        "# Load Amazon Fraud Dataset\n",
        "dataset = dgl.data.FraudAmazonDataset()"
      ],
      "metadata": {
        "id": "tEQZD_kG41gB",
        "colab": {
          "base_uri": "https://localhost:8080/",
          "height": 104,
          "referenced_widgets": [
            "7dcc1baa4bfd4c6eabe3772e807219a0",
            "dc70efe8653249a785bf94c79e0f3018",
            "c1e73b5376b3489d8b84f30b44f17ffa",
            "74ebc4f6439c45fdb9be6b4e9f671d08",
            "f626ff74b5604c3a96537c7af615303b",
            "900dfc42d02149d994a327e5c63cda7c",
            "01431ca6effc4fa6bafcebeb9ee4f0b8",
            "371bdaba8c414f14879f917c34bdfcd8",
            "7efc039c9c834d3fb86372c2b245aaf1",
            "340b383ba86044db8f29627ac59447fb",
            "94735e82497b4e7b91b8e04862c4bbb8"
          ]
        },
        "outputId": "0db9a1da-6ecd-49d4-87f7-ea58ea53e667"
      },
      "execution_count": 3,
      "outputs": [
        {
          "output_type": "stream",
          "name": "stdout",
          "text": [
            "Downloading /root/.dgl/amazon.zip from https://data.dgl.ai/dataset/FraudAmazon.zip...\n"
          ]
        },
        {
          "output_type": "display_data",
          "data": {
            "text/plain": [
              "/root/.dgl/amazon.zip:   0%|          | 0.00/26.1M [00:00<?, ?B/s]"
            ],
            "application/vnd.jupyter.widget-view+json": {
              "version_major": 2,
              "version_minor": 0,
              "model_id": "7dcc1baa4bfd4c6eabe3772e807219a0"
            }
          },
          "metadata": {}
        },
        {
          "output_type": "stream",
          "name": "stdout",
          "text": [
            "Extracting file to /root/.dgl/amazon_1e446145\n",
            "Done saving data into cached files.\n"
          ]
        }
      ]
    },
    {
      "cell_type": "code",
      "source": [
        "print(f\"Number of categories: {dataset.num_classes}\")"
      ],
      "metadata": {
        "colab": {
          "base_uri": "https://localhost:8080/"
        },
        "id": "uaT22jkiGYpC",
        "outputId": "b5e90ef9-bb9e-4d79-eb14-2809a4aba20a"
      },
      "execution_count": 4,
      "outputs": [
        {
          "output_type": "stream",
          "name": "stdout",
          "text": [
            "Number of categories: 2\n"
          ]
        }
      ]
    },
    {
      "cell_type": "code",
      "source": [
        "g = dataset[0]"
      ],
      "metadata": {
        "id": "1w8nocNXGRF8"
      },
      "execution_count": 5,
      "outputs": []
    },
    {
      "cell_type": "code",
      "source": [
        "print(g)"
      ],
      "metadata": {
        "colab": {
          "base_uri": "https://localhost:8080/"
        },
        "id": "CUOpgVauIdKo",
        "outputId": "af3e84ec-c650-4b2a-d6e4-12a82486b495"
      },
      "execution_count": 6,
      "outputs": [
        {
          "output_type": "stream",
          "name": "stdout",
          "text": [
            "Graph(num_nodes={'user': 11944},\n",
            "      num_edges={('user', 'net_upu', 'user'): 351216, ('user', 'net_usu', 'user'): 7132958, ('user', 'net_uvu', 'user'): 2073474},\n",
            "      metagraph=[('user', 'user', 'net_upu'), ('user', 'user', 'net_usu'), ('user', 'user', 'net_uvu')])\n"
          ]
        }
      ]
    },
    {
      "cell_type": "code",
      "source": [
        "print(g.ndata)"
      ],
      "metadata": {
        "colab": {
          "base_uri": "https://localhost:8080/"
        },
        "id": "Zv2l7fzeIn3x",
        "outputId": "071eeb71-c7c6-45b9-eaab-53174970c397"
      },
      "execution_count": 7,
      "outputs": [
        {
          "output_type": "stream",
          "name": "stdout",
          "text": [
            "{'feature': tensor([[ 1.0000, 26.0000,  0.0000,  ...,  1.0000, 13.0000,  1.0000],\n",
            "        [ 4.0000, 17.0000,  0.0000,  ...,  0.0000, 45.0000,  1.0000],\n",
            "        [ 2.0000, 15.0000,  0.0000,  ...,  1.0000, 24.5000,  1.0000],\n",
            "        ...,\n",
            "        [ 1.0000, 10.0000,  0.0000,  ...,  1.0000, 15.0000,  1.0000],\n",
            "        [ 1.0000, 10.0000,  0.0000,  ...,  1.0000, 88.0000,  1.0000],\n",
            "        [ 1.0000, 10.0000,  0.0000,  ...,  1.0000, 31.0000,  1.0000]]), 'label': tensor([0, 0, 0,  ..., 0, 0, 0]), 'train_mask': tensor([False, False, False,  ..., False,  True,  True]), 'val_mask': tensor([False, False, False,  ..., False, False, False]), 'test_mask': tensor([False, False, False,  ...,  True, False, False])}\n"
          ]
        }
      ]
    },
    {
      "cell_type": "code",
      "source": [
        "# See about querying the graphs separately\n",
        "g_upu = g.edge_type_subgraph(['net_upu'])\n",
        "g_usu = g.edge_type_subgraph(['net_usu'])\n",
        "g_uvu = g.edge_type_subgraph(['net_uvu'])"
      ],
      "metadata": {
        "id": "GtHEAQ0clRBl"
      },
      "execution_count": 8,
      "outputs": []
    },
    {
      "cell_type": "code",
      "source": [
        "print(g_upu)\n",
        "print(g_usu)\n",
        "print(g_uvu)"
      ],
      "metadata": {
        "colab": {
          "base_uri": "https://localhost:8080/"
        },
        "id": "qicPlPrcmI-Y",
        "outputId": "30299f6a-f061-4089-a01d-7bd4377f504e"
      },
      "execution_count": 9,
      "outputs": [
        {
          "output_type": "stream",
          "name": "stdout",
          "text": [
            "Graph(num_nodes=11944, num_edges=351216,\n",
            "      ndata_schemes={'feature': Scheme(shape=(25,), dtype=torch.float32), 'label': Scheme(shape=(), dtype=torch.int64), 'train_mask': Scheme(shape=(), dtype=torch.bool), 'val_mask': Scheme(shape=(), dtype=torch.bool), 'test_mask': Scheme(shape=(), dtype=torch.bool)}\n",
            "      edata_schemes={})\n",
            "Graph(num_nodes=11944, num_edges=7132958,\n",
            "      ndata_schemes={'feature': Scheme(shape=(25,), dtype=torch.float32), 'label': Scheme(shape=(), dtype=torch.int64), 'train_mask': Scheme(shape=(), dtype=torch.bool), 'val_mask': Scheme(shape=(), dtype=torch.bool), 'test_mask': Scheme(shape=(), dtype=torch.bool)}\n",
            "      edata_schemes={})\n",
            "Graph(num_nodes=11944, num_edges=2073474,\n",
            "      ndata_schemes={'feature': Scheme(shape=(25,), dtype=torch.float32), 'label': Scheme(shape=(), dtype=torch.int64), 'train_mask': Scheme(shape=(), dtype=torch.bool), 'val_mask': Scheme(shape=(), dtype=torch.bool), 'test_mask': Scheme(shape=(), dtype=torch.bool)}\n",
            "      edata_schemes={})\n"
          ]
        }
      ]
    },
    {
      "cell_type": "code",
      "source": [
        "print(g_upu.ndata)\n",
        "print(g_usu.ndata)\n",
        "print(g_uvu.ndata)"
      ],
      "metadata": {
        "colab": {
          "base_uri": "https://localhost:8080/"
        },
        "id": "2KxktpX8mamo",
        "outputId": "eddb54bc-1f7b-4cdb-92f9-1cd7a47178e3"
      },
      "execution_count": 10,
      "outputs": [
        {
          "output_type": "stream",
          "name": "stdout",
          "text": [
            "{'feature': tensor([[ 1.0000, 26.0000,  0.0000,  ...,  1.0000, 13.0000,  1.0000],\n",
            "        [ 4.0000, 17.0000,  0.0000,  ...,  0.0000, 45.0000,  1.0000],\n",
            "        [ 2.0000, 15.0000,  0.0000,  ...,  1.0000, 24.5000,  1.0000],\n",
            "        ...,\n",
            "        [ 1.0000, 10.0000,  0.0000,  ...,  1.0000, 15.0000,  1.0000],\n",
            "        [ 1.0000, 10.0000,  0.0000,  ...,  1.0000, 88.0000,  1.0000],\n",
            "        [ 1.0000, 10.0000,  0.0000,  ...,  1.0000, 31.0000,  1.0000]]), 'label': tensor([0, 0, 0,  ..., 0, 0, 0]), 'train_mask': tensor([False, False, False,  ..., False,  True,  True]), 'val_mask': tensor([False, False, False,  ..., False, False, False]), 'test_mask': tensor([False, False, False,  ...,  True, False, False])}\n",
            "{'feature': tensor([[ 1.0000, 26.0000,  0.0000,  ...,  1.0000, 13.0000,  1.0000],\n",
            "        [ 4.0000, 17.0000,  0.0000,  ...,  0.0000, 45.0000,  1.0000],\n",
            "        [ 2.0000, 15.0000,  0.0000,  ...,  1.0000, 24.5000,  1.0000],\n",
            "        ...,\n",
            "        [ 1.0000, 10.0000,  0.0000,  ...,  1.0000, 15.0000,  1.0000],\n",
            "        [ 1.0000, 10.0000,  0.0000,  ...,  1.0000, 88.0000,  1.0000],\n",
            "        [ 1.0000, 10.0000,  0.0000,  ...,  1.0000, 31.0000,  1.0000]]), 'label': tensor([0, 0, 0,  ..., 0, 0, 0]), 'train_mask': tensor([False, False, False,  ..., False,  True,  True]), 'val_mask': tensor([False, False, False,  ..., False, False, False]), 'test_mask': tensor([False, False, False,  ...,  True, False, False])}\n",
            "{'feature': tensor([[ 1.0000, 26.0000,  0.0000,  ...,  1.0000, 13.0000,  1.0000],\n",
            "        [ 4.0000, 17.0000,  0.0000,  ...,  0.0000, 45.0000,  1.0000],\n",
            "        [ 2.0000, 15.0000,  0.0000,  ...,  1.0000, 24.5000,  1.0000],\n",
            "        ...,\n",
            "        [ 1.0000, 10.0000,  0.0000,  ...,  1.0000, 15.0000,  1.0000],\n",
            "        [ 1.0000, 10.0000,  0.0000,  ...,  1.0000, 88.0000,  1.0000],\n",
            "        [ 1.0000, 10.0000,  0.0000,  ...,  1.0000, 31.0000,  1.0000]]), 'label': tensor([0, 0, 0,  ..., 0, 0, 0]), 'train_mask': tensor([False, False, False,  ..., False,  True,  True]), 'val_mask': tensor([False, False, False,  ..., False, False, False]), 'test_mask': tensor([False, False, False,  ...,  True, False, False])}\n"
          ]
        }
      ]
    },
    {
      "cell_type": "code",
      "source": [
        "print(\"Node features\")\n",
        "print(g_upu.ndata)\n",
        "print(\"Edge features\")\n",
        "print(g_upu.edata)"
      ],
      "metadata": {
        "colab": {
          "base_uri": "https://localhost:8080/"
        },
        "id": "Y0nUWub7GjqX",
        "outputId": "9fb83139-8100-4257-cfe9-78ea6844234e"
      },
      "execution_count": 11,
      "outputs": [
        {
          "output_type": "stream",
          "name": "stdout",
          "text": [
            "Node features\n",
            "{'feature': tensor([[ 1.0000, 26.0000,  0.0000,  ...,  1.0000, 13.0000,  1.0000],\n",
            "        [ 4.0000, 17.0000,  0.0000,  ...,  0.0000, 45.0000,  1.0000],\n",
            "        [ 2.0000, 15.0000,  0.0000,  ...,  1.0000, 24.5000,  1.0000],\n",
            "        ...,\n",
            "        [ 1.0000, 10.0000,  0.0000,  ...,  1.0000, 15.0000,  1.0000],\n",
            "        [ 1.0000, 10.0000,  0.0000,  ...,  1.0000, 88.0000,  1.0000],\n",
            "        [ 1.0000, 10.0000,  0.0000,  ...,  1.0000, 31.0000,  1.0000]]), 'label': tensor([0, 0, 0,  ..., 0, 0, 0]), 'train_mask': tensor([False, False, False,  ..., False,  True,  True]), 'val_mask': tensor([False, False, False,  ..., False, False, False]), 'test_mask': tensor([False, False, False,  ...,  True, False, False])}\n",
            "Edge features\n",
            "{}\n"
          ]
        }
      ]
    },
    {
      "cell_type": "code",
      "source": [
        "# Need to label"
      ],
      "metadata": {
        "id": "6sO2Pxs9G1eo"
      },
      "execution_count": 12,
      "outputs": []
    },
    {
      "cell_type": "code",
      "source": [
        "features = g_upu.ndata[\"feature\"]\n",
        "labels = g_upu.ndata[\"label\"]\n",
        "train_mask = g_upu.ndata[\"train_mask\"]\n",
        "val_mask = g_upu.ndata[\"val_mask\"]\n",
        "test_mask = g_upu.ndata[\"test_mask\"]"
      ],
      "metadata": {
        "id": "7E7rjVFtGcaX"
      },
      "execution_count": 13,
      "outputs": []
    },
    {
      "cell_type": "code",
      "source": [],
      "metadata": {
        "id": "UQ20dDwaDHaF"
      },
      "execution_count": 13,
      "outputs": []
    },
    {
      "cell_type": "code",
      "source": [
        "# Define NN\n",
        "from dgl.nn import SAGEConv\n",
        "\n",
        "class GraphSAGE(nn.Module):\n",
        "  def __init__(self, in_feats, h_feats):\n",
        "    super(GraphSAGE, self).__init__()\n",
        "    self.conv1 = SAGEConv(in_feats, h_feats, \"mean\")\n",
        "    self.conv2 = SAGEConv(h_feats, h_feats, \"mean\")\n",
        "\n",
        "  def forward(self, g, in_feat):\n",
        "    h = self.conv1(g, in_feat)\n",
        "    h = F.relu(h)\n",
        "    h = self.conv2(g, h)\n",
        "    return h"
      ],
      "metadata": {
        "id": "Ja1FuaIi41ck"
      },
      "execution_count": 14,
      "outputs": []
    },
    {
      "cell_type": "code",
      "source": [
        "# Transdctive NN\n",
        "\n",
        "def train(g, model):\n",
        "  optimizer = torch.optim.Adam(model.parameters(), lr=0.01)\n",
        "  best_val_acc = 0\n",
        "  best_test_acc = 0\n",
        "\n",
        "  for e in range(500):\n",
        "    # Forward\n",
        "    logits = model(g, features)\n",
        "\n",
        "    # Compute prediction\n",
        "    pred = logits.argmax(1)\n",
        "\n",
        "    # Compute loss\n",
        "    # Note that you should only compute the losses of the nodes in the training set.\n",
        "    loss = F.cross_entropy(logits[train_mask], labels[train_mask])\n",
        "\n",
        "    # Compute accuracy on training/validation/test\n",
        "    train_acc = (pred[train_mask] == labels[train_mask]).float().mean()\n",
        "    val_acc = (pred[val_mask] == labels[val_mask]).float().mean()\n",
        "    test_acc = (pred[test_mask] == labels[test_mask]).float().mean()\n",
        "\n",
        "    # Save the best validation accuracy and the corresponding test accuracy\n",
        "    if best_val_acc < val_acc:\n",
        "      best_val_acc = val_acc\n",
        "      best_test_acc = test_acc\n",
        "\n",
        "    # Backward\n",
        "    optimizer.zero_grad()\n",
        "    loss.backward()\n",
        "    optimizer.step()\n",
        "\n",
        "    if e % 5 ==0:\n",
        "      print(\n",
        "          f\"In epoch {e}, loss: {loss:.3f}, val acc: {val_acc:.3f} (best {best_val_acc:.3f}), test acc: {test_acc:.3f}\"\n",
        "      )\n",
        "  return pred"
      ],
      "metadata": {
        "id": "LankXtvV41Zt"
      },
      "execution_count": 15,
      "outputs": []
    },
    {
      "cell_type": "code",
      "source": [
        "# Training Logic on UPU graph\n",
        "\n",
        "features = g_upu.ndata[\"feature\"]\n",
        "labels = g_upu.ndata[\"label\"]\n",
        "train_mask = g_upu.ndata[\"train_mask\"]\n",
        "val_mask = g_upu.ndata[\"val_mask\"]\n",
        "test_mask = g_upu.ndata[\"test_mask\"]\n",
        "\n",
        "# Train initialization (on CPU)\n",
        "model = GraphSAGE(g_upu.ndata['feature'].shape[1], 16) # , dataset.num_classes\n",
        "pred_upu = train(g_upu, model)"
      ],
      "metadata": {
        "colab": {
          "base_uri": "https://localhost:8080/"
        },
        "id": "0k2jraNhpI0x",
        "outputId": "2d5b7add-54eb-4f9f-bdb2-4bee68e7b505"
      },
      "execution_count": 16,
      "outputs": [
        {
          "output_type": "stream",
          "name": "stdout",
          "text": [
            "In epoch 0, loss: 908.910, val acc: 0.000 (best 0.000), test acc: 0.002\n",
            "In epoch 5, loss: 293.923, val acc: 0.079 (best 0.079), test acc: 0.081\n",
            "In epoch 10, loss: 45.390, val acc: 0.824 (best 0.824), test acc: 0.802\n",
            "In epoch 15, loss: 23.427, val acc: 0.924 (best 0.924), test acc: 0.898\n",
            "In epoch 20, loss: 9.950, val acc: 0.915 (best 0.933), test acc: 0.887\n",
            "In epoch 25, loss: 8.903, val acc: 0.844 (best 0.933), test acc: 0.837\n",
            "In epoch 30, loss: 8.754, val acc: 0.941 (best 0.941), test acc: 0.913\n",
            "In epoch 35, loss: 5.476, val acc: 0.869 (best 0.941), test acc: 0.861\n",
            "In epoch 40, loss: 4.804, val acc: 0.939 (best 0.941), test acc: 0.914\n",
            "In epoch 45, loss: 3.612, val acc: 0.914 (best 0.941), test acc: 0.890\n",
            "In epoch 50, loss: 3.075, val acc: 0.947 (best 0.947), test acc: 0.930\n",
            "In epoch 55, loss: 2.550, val acc: 0.924 (best 0.949), test acc: 0.919\n",
            "In epoch 60, loss: 1.715, val acc: 0.943 (best 0.952), test acc: 0.942\n",
            "In epoch 65, loss: 1.664, val acc: 0.956 (best 0.956), test acc: 0.946\n",
            "In epoch 70, loss: 1.454, val acc: 0.950 (best 0.956), test acc: 0.951\n",
            "In epoch 75, loss: 1.274, val acc: 0.946 (best 0.956), test acc: 0.949\n",
            "In epoch 80, loss: 1.182, val acc: 0.950 (best 0.956), test acc: 0.945\n",
            "In epoch 85, loss: 1.090, val acc: 0.951 (best 0.956), test acc: 0.951\n",
            "In epoch 90, loss: 1.011, val acc: 0.957 (best 0.957), test acc: 0.953\n",
            "In epoch 95, loss: 0.959, val acc: 0.957 (best 0.957), test acc: 0.953\n",
            "In epoch 100, loss: 0.901, val acc: 0.955 (best 0.957), test acc: 0.953\n",
            "In epoch 105, loss: 0.843, val acc: 0.956 (best 0.957), test acc: 0.953\n",
            "In epoch 110, loss: 0.794, val acc: 0.956 (best 0.957), test acc: 0.953\n",
            "In epoch 115, loss: 0.752, val acc: 0.958 (best 0.958), test acc: 0.952\n",
            "In epoch 120, loss: 0.717, val acc: 0.957 (best 0.958), test acc: 0.954\n",
            "In epoch 125, loss: 0.685, val acc: 0.958 (best 0.958), test acc: 0.953\n",
            "In epoch 130, loss: 0.657, val acc: 0.958 (best 0.961), test acc: 0.953\n",
            "In epoch 135, loss: 0.630, val acc: 0.961 (best 0.961), test acc: 0.955\n",
            "In epoch 140, loss: 0.605, val acc: 0.962 (best 0.962), test acc: 0.956\n",
            "In epoch 145, loss: 0.580, val acc: 0.963 (best 0.963), test acc: 0.955\n",
            "In epoch 150, loss: 0.557, val acc: 0.963 (best 0.963), test acc: 0.956\n",
            "In epoch 155, loss: 0.535, val acc: 0.962 (best 0.963), test acc: 0.956\n",
            "In epoch 160, loss: 0.515, val acc: 0.966 (best 0.966), test acc: 0.956\n",
            "In epoch 165, loss: 0.496, val acc: 0.966 (best 0.966), test acc: 0.958\n",
            "In epoch 170, loss: 0.479, val acc: 0.966 (best 0.968), test acc: 0.957\n",
            "In epoch 175, loss: 0.462, val acc: 0.965 (best 0.968), test acc: 0.958\n",
            "In epoch 180, loss: 0.447, val acc: 0.968 (best 0.968), test acc: 0.957\n",
            "In epoch 185, loss: 0.433, val acc: 0.969 (best 0.969), test acc: 0.958\n",
            "In epoch 190, loss: 0.417, val acc: 0.966 (best 0.969), test acc: 0.957\n",
            "In epoch 195, loss: 0.404, val acc: 0.965 (best 0.969), test acc: 0.957\n",
            "In epoch 200, loss: 0.393, val acc: 0.968 (best 0.969), test acc: 0.958\n",
            "In epoch 205, loss: 0.378, val acc: 0.965 (best 0.969), test acc: 0.957\n",
            "In epoch 210, loss: 0.368, val acc: 0.964 (best 0.969), test acc: 0.957\n",
            "In epoch 215, loss: 0.355, val acc: 0.965 (best 0.969), test acc: 0.958\n",
            "In epoch 220, loss: 0.344, val acc: 0.965 (best 0.969), test acc: 0.958\n",
            "In epoch 225, loss: 0.339, val acc: 0.966 (best 0.971), test acc: 0.957\n",
            "In epoch 230, loss: 0.323, val acc: 0.970 (best 0.971), test acc: 0.959\n",
            "In epoch 235, loss: 0.320, val acc: 0.973 (best 0.973), test acc: 0.961\n",
            "In epoch 240, loss: 0.339, val acc: 0.972 (best 0.973), test acc: 0.962\n",
            "In epoch 245, loss: 0.398, val acc: 0.972 (best 0.973), test acc: 0.962\n",
            "In epoch 250, loss: 0.758, val acc: 0.970 (best 0.973), test acc: 0.962\n",
            "In epoch 255, loss: 0.790, val acc: 0.904 (best 0.973), test acc: 0.912\n",
            "In epoch 260, loss: 0.586, val acc: 0.964 (best 0.973), test acc: 0.962\n",
            "In epoch 265, loss: 0.622, val acc: 0.968 (best 0.973), test acc: 0.961\n",
            "In epoch 270, loss: 0.465, val acc: 0.956 (best 0.973), test acc: 0.957\n",
            "In epoch 275, loss: 0.431, val acc: 0.969 (best 0.973), test acc: 0.961\n",
            "In epoch 280, loss: 0.713, val acc: 0.973 (best 0.973), test acc: 0.964\n",
            "In epoch 285, loss: 0.769, val acc: 0.973 (best 0.975), test acc: 0.966\n",
            "In epoch 290, loss: 3.323, val acc: 0.954 (best 0.975), test acc: 0.938\n",
            "In epoch 295, loss: 7.295, val acc: 0.950 (best 0.975), test acc: 0.931\n",
            "In epoch 300, loss: 4.173, val acc: 0.846 (best 0.975), test acc: 0.844\n",
            "In epoch 305, loss: 5.547, val acc: 0.958 (best 0.975), test acc: 0.939\n",
            "In epoch 310, loss: 2.986, val acc: 0.924 (best 0.975), test acc: 0.922\n",
            "In epoch 315, loss: 2.464, val acc: 0.973 (best 0.975), test acc: 0.963\n",
            "In epoch 320, loss: 1.797, val acc: 0.972 (best 0.975), test acc: 0.964\n",
            "In epoch 325, loss: 0.921, val acc: 0.954 (best 0.975), test acc: 0.954\n",
            "In epoch 330, loss: 0.741, val acc: 0.944 (best 0.975), test acc: 0.945\n",
            "In epoch 335, loss: 0.703, val acc: 0.970 (best 0.975), test acc: 0.962\n",
            "In epoch 340, loss: 0.538, val acc: 0.959 (best 0.975), test acc: 0.958\n",
            "In epoch 345, loss: 0.478, val acc: 0.963 (best 0.975), test acc: 0.952\n",
            "In epoch 350, loss: 0.362, val acc: 0.971 (best 0.975), test acc: 0.966\n",
            "In epoch 355, loss: 0.324, val acc: 0.966 (best 0.975), test acc: 0.961\n",
            "In epoch 360, loss: 0.323, val acc: 0.970 (best 0.975), test acc: 0.965\n",
            "In epoch 365, loss: 0.316, val acc: 0.973 (best 0.975), test acc: 0.966\n",
            "In epoch 370, loss: 0.291, val acc: 0.973 (best 0.975), test acc: 0.963\n",
            "In epoch 375, loss: 0.276, val acc: 0.971 (best 0.975), test acc: 0.962\n",
            "In epoch 380, loss: 0.271, val acc: 0.970 (best 0.975), test acc: 0.962\n",
            "In epoch 385, loss: 0.263, val acc: 0.970 (best 0.975), test acc: 0.962\n",
            "In epoch 390, loss: 0.256, val acc: 0.972 (best 0.975), test acc: 0.963\n",
            "In epoch 395, loss: 0.250, val acc: 0.970 (best 0.975), test acc: 0.962\n",
            "In epoch 400, loss: 0.245, val acc: 0.973 (best 0.975), test acc: 0.962\n",
            "In epoch 405, loss: 0.240, val acc: 0.973 (best 0.975), test acc: 0.961\n",
            "In epoch 410, loss: 0.235, val acc: 0.973 (best 0.975), test acc: 0.962\n",
            "In epoch 415, loss: 0.231, val acc: 0.972 (best 0.975), test acc: 0.964\n",
            "In epoch 420, loss: 0.227, val acc: 0.973 (best 0.975), test acc: 0.965\n",
            "In epoch 425, loss: 0.223, val acc: 0.973 (best 0.975), test acc: 0.964\n",
            "In epoch 430, loss: 0.219, val acc: 0.973 (best 0.975), test acc: 0.964\n",
            "In epoch 435, loss: 0.215, val acc: 0.973 (best 0.975), test acc: 0.965\n",
            "In epoch 440, loss: 0.212, val acc: 0.972 (best 0.975), test acc: 0.965\n",
            "In epoch 445, loss: 0.209, val acc: 0.972 (best 0.975), test acc: 0.964\n",
            "In epoch 450, loss: 0.205, val acc: 0.972 (best 0.975), test acc: 0.964\n",
            "In epoch 455, loss: 0.202, val acc: 0.972 (best 0.975), test acc: 0.964\n",
            "In epoch 460, loss: 0.199, val acc: 0.972 (best 0.975), test acc: 0.965\n",
            "In epoch 465, loss: 0.196, val acc: 0.972 (best 0.975), test acc: 0.964\n",
            "In epoch 470, loss: 0.193, val acc: 0.972 (best 0.975), test acc: 0.964\n",
            "In epoch 475, loss: 0.190, val acc: 0.972 (best 0.975), test acc: 0.964\n",
            "In epoch 480, loss: 0.188, val acc: 0.972 (best 0.975), test acc: 0.964\n",
            "In epoch 485, loss: 0.185, val acc: 0.972 (best 0.975), test acc: 0.963\n",
            "In epoch 490, loss: 0.183, val acc: 0.972 (best 0.975), test acc: 0.962\n",
            "In epoch 495, loss: 0.181, val acc: 0.972 (best 0.975), test acc: 0.962\n"
          ]
        }
      ]
    },
    {
      "cell_type": "code",
      "source": [
        "print(pred_upu)"
      ],
      "metadata": {
        "colab": {
          "base_uri": "https://localhost:8080/"
        },
        "id": "K7JhiRyqznf7",
        "outputId": "fd277b0c-9ab1-4785-8774-fc694df0f8c7"
      },
      "execution_count": 17,
      "outputs": [
        {
          "output_type": "stream",
          "name": "stdout",
          "text": [
            "tensor([0, 0, 0,  ..., 0, 0, 0])\n"
          ]
        }
      ]
    },
    {
      "cell_type": "code",
      "source": [
        "# Training Logic on USU graph\n",
        "\n",
        "features = g_usu.ndata[\"feature\"]\n",
        "labels = g_usu.ndata[\"label\"]\n",
        "train_mask = g_usu.ndata[\"train_mask\"]\n",
        "val_mask = g_usu.ndata[\"val_mask\"]\n",
        "test_mask = g_usu.ndata[\"test_mask\"]\n",
        "\n",
        "# Train initialization (on CPU)\n",
        "model = GraphSAGE(g_usu.ndata['feature'].shape[1], 16) # , dataset.num_classes\n",
        "pred_usu = train(g_usu, model)"
      ],
      "metadata": {
        "colab": {
          "base_uri": "https://localhost:8080/"
        },
        "id": "mT8kbekYpIsO",
        "outputId": "f6b6c35f-79a2-4181-e79c-14ec204dd4f9"
      },
      "execution_count": 18,
      "outputs": [
        {
          "output_type": "stream",
          "name": "stdout",
          "text": [
            "In epoch 0, loss: 1338.938, val acc: 0.000 (best 0.000), test acc: 0.000\n",
            "In epoch 5, loss: 653.283, val acc: 0.000 (best 0.000), test acc: 0.001\n",
            "In epoch 10, loss: 144.411, val acc: 0.037 (best 0.037), test acc: 0.042\n",
            "In epoch 15, loss: 10.001, val acc: 0.870 (best 0.870), test acc: 0.832\n",
            "In epoch 20, loss: 11.030, val acc: 0.910 (best 0.917), test acc: 0.882\n",
            "In epoch 25, loss: 6.404, val acc: 0.905 (best 0.917), test acc: 0.871\n",
            "In epoch 30, loss: 5.217, val acc: 0.910 (best 0.917), test acc: 0.878\n",
            "In epoch 35, loss: 4.601, val acc: 0.907 (best 0.917), test acc: 0.875\n",
            "In epoch 40, loss: 2.964, val acc: 0.835 (best 0.921), test acc: 0.821\n",
            "In epoch 45, loss: 2.124, val acc: 0.950 (best 0.950), test acc: 0.935\n",
            "In epoch 50, loss: 1.684, val acc: 0.912 (best 0.952), test acc: 0.903\n",
            "In epoch 55, loss: 1.346, val acc: 0.951 (best 0.954), test acc: 0.946\n",
            "In epoch 60, loss: 1.092, val acc: 0.921 (best 0.954), test acc: 0.921\n",
            "In epoch 65, loss: 1.085, val acc: 0.949 (best 0.954), test acc: 0.944\n",
            "In epoch 70, loss: 0.966, val acc: 0.936 (best 0.954), test acc: 0.928\n",
            "In epoch 75, loss: 0.921, val acc: 0.932 (best 0.954), test acc: 0.925\n",
            "In epoch 80, loss: 0.876, val acc: 0.946 (best 0.954), test acc: 0.940\n",
            "In epoch 85, loss: 0.817, val acc: 0.942 (best 0.954), test acc: 0.934\n",
            "In epoch 90, loss: 0.769, val acc: 0.941 (best 0.954), test acc: 0.939\n",
            "In epoch 95, loss: 0.729, val acc: 0.947 (best 0.954), test acc: 0.944\n",
            "In epoch 100, loss: 0.693, val acc: 0.950 (best 0.954), test acc: 0.945\n",
            "In epoch 105, loss: 0.660, val acc: 0.946 (best 0.954), test acc: 0.944\n",
            "In epoch 110, loss: 0.629, val acc: 0.946 (best 0.954), test acc: 0.943\n",
            "In epoch 115, loss: 0.599, val acc: 0.948 (best 0.954), test acc: 0.947\n",
            "In epoch 120, loss: 0.571, val acc: 0.948 (best 0.954), test acc: 0.948\n",
            "In epoch 125, loss: 0.545, val acc: 0.946 (best 0.954), test acc: 0.944\n",
            "In epoch 130, loss: 0.522, val acc: 0.947 (best 0.954), test acc: 0.944\n",
            "In epoch 135, loss: 0.499, val acc: 0.949 (best 0.954), test acc: 0.945\n",
            "In epoch 140, loss: 0.477, val acc: 0.947 (best 0.954), test acc: 0.946\n",
            "In epoch 145, loss: 0.457, val acc: 0.946 (best 0.954), test acc: 0.947\n",
            "In epoch 150, loss: 0.438, val acc: 0.947 (best 0.954), test acc: 0.948\n",
            "In epoch 155, loss: 0.419, val acc: 0.947 (best 0.954), test acc: 0.947\n",
            "In epoch 160, loss: 0.401, val acc: 0.947 (best 0.954), test acc: 0.947\n",
            "In epoch 165, loss: 0.384, val acc: 0.947 (best 0.954), test acc: 0.949\n",
            "In epoch 170, loss: 0.367, val acc: 0.948 (best 0.954), test acc: 0.950\n",
            "In epoch 175, loss: 0.350, val acc: 0.947 (best 0.954), test acc: 0.951\n",
            "In epoch 180, loss: 0.333, val acc: 0.947 (best 0.954), test acc: 0.951\n",
            "In epoch 185, loss: 0.316, val acc: 0.947 (best 0.954), test acc: 0.953\n",
            "In epoch 190, loss: 0.300, val acc: 0.951 (best 0.954), test acc: 0.954\n",
            "In epoch 195, loss: 0.285, val acc: 0.954 (best 0.954), test acc: 0.955\n",
            "In epoch 200, loss: 0.270, val acc: 0.952 (best 0.955), test acc: 0.956\n",
            "In epoch 205, loss: 0.258, val acc: 0.956 (best 0.956), test acc: 0.956\n",
            "In epoch 210, loss: 0.248, val acc: 0.955 (best 0.956), test acc: 0.955\n",
            "In epoch 215, loss: 0.238, val acc: 0.956 (best 0.956), test acc: 0.957\n",
            "In epoch 220, loss: 0.231, val acc: 0.958 (best 0.958), test acc: 0.957\n",
            "In epoch 225, loss: 0.225, val acc: 0.950 (best 0.959), test acc: 0.952\n",
            "In epoch 230, loss: 0.220, val acc: 0.944 (best 0.959), test acc: 0.953\n",
            "In epoch 235, loss: 0.213, val acc: 0.949 (best 0.961), test acc: 0.955\n",
            "In epoch 240, loss: 0.718, val acc: 0.955 (best 0.965), test acc: 0.943\n",
            "In epoch 245, loss: 2.528, val acc: 0.942 (best 0.965), test acc: 0.920\n",
            "In epoch 250, loss: 9.103, val acc: 0.934 (best 0.965), test acc: 0.906\n",
            "In epoch 255, loss: 5.090, val acc: 0.778 (best 0.965), test acc: 0.773\n",
            "In epoch 260, loss: 6.540, val acc: 0.944 (best 0.965), test acc: 0.924\n",
            "In epoch 265, loss: 4.222, val acc: 0.968 (best 0.968), test acc: 0.954\n",
            "In epoch 270, loss: 3.372, val acc: 0.970 (best 0.970), test acc: 0.960\n",
            "In epoch 275, loss: 3.424, val acc: 0.955 (best 0.970), test acc: 0.946\n",
            "In epoch 280, loss: 1.133, val acc: 0.970 (best 0.970), test acc: 0.961\n",
            "In epoch 285, loss: 5.483, val acc: 0.939 (best 0.970), test acc: 0.921\n",
            "In epoch 290, loss: 1.903, val acc: 0.965 (best 0.970), test acc: 0.951\n",
            "In epoch 295, loss: 1.542, val acc: 0.875 (best 0.970), test acc: 0.877\n",
            "In epoch 300, loss: 1.440, val acc: 0.963 (best 0.970), test acc: 0.956\n",
            "In epoch 305, loss: 1.061, val acc: 0.958 (best 0.970), test acc: 0.958\n",
            "In epoch 310, loss: 0.645, val acc: 0.963 (best 0.970), test acc: 0.961\n",
            "In epoch 315, loss: 0.684, val acc: 0.961 (best 0.970), test acc: 0.952\n",
            "In epoch 320, loss: 0.629, val acc: 0.959 (best 0.970), test acc: 0.950\n",
            "In epoch 325, loss: 0.480, val acc: 0.951 (best 0.970), test acc: 0.953\n",
            "In epoch 330, loss: 0.466, val acc: 0.957 (best 0.970), test acc: 0.960\n",
            "In epoch 335, loss: 0.433, val acc: 0.963 (best 0.970), test acc: 0.964\n",
            "In epoch 340, loss: 0.398, val acc: 0.957 (best 0.970), test acc: 0.963\n",
            "In epoch 345, loss: 0.393, val acc: 0.947 (best 0.970), test acc: 0.954\n",
            "In epoch 350, loss: 0.380, val acc: 0.964 (best 0.970), test acc: 0.961\n",
            "In epoch 355, loss: 0.359, val acc: 0.950 (best 0.970), test acc: 0.957\n",
            "In epoch 360, loss: 0.341, val acc: 0.954 (best 0.970), test acc: 0.960\n",
            "In epoch 365, loss: 0.330, val acc: 0.955 (best 0.970), test acc: 0.961\n",
            "In epoch 370, loss: 0.320, val acc: 0.951 (best 0.970), test acc: 0.960\n",
            "In epoch 375, loss: 0.309, val acc: 0.955 (best 0.970), test acc: 0.962\n",
            "In epoch 380, loss: 0.299, val acc: 0.952 (best 0.970), test acc: 0.961\n",
            "In epoch 385, loss: 0.290, val acc: 0.956 (best 0.970), test acc: 0.962\n",
            "In epoch 390, loss: 0.281, val acc: 0.954 (best 0.970), test acc: 0.961\n",
            "In epoch 395, loss: 0.272, val acc: 0.956 (best 0.970), test acc: 0.961\n",
            "In epoch 400, loss: 0.264, val acc: 0.956 (best 0.970), test acc: 0.961\n",
            "In epoch 405, loss: 0.256, val acc: 0.955 (best 0.970), test acc: 0.961\n",
            "In epoch 410, loss: 0.249, val acc: 0.955 (best 0.970), test acc: 0.961\n",
            "In epoch 415, loss: 0.242, val acc: 0.955 (best 0.970), test acc: 0.961\n",
            "In epoch 420, loss: 0.235, val acc: 0.956 (best 0.970), test acc: 0.961\n",
            "In epoch 425, loss: 0.229, val acc: 0.956 (best 0.970), test acc: 0.960\n",
            "In epoch 430, loss: 0.222, val acc: 0.956 (best 0.970), test acc: 0.961\n",
            "In epoch 435, loss: 0.217, val acc: 0.956 (best 0.970), test acc: 0.962\n",
            "In epoch 440, loss: 0.211, val acc: 0.956 (best 0.970), test acc: 0.962\n",
            "In epoch 445, loss: 0.206, val acc: 0.956 (best 0.970), test acc: 0.962\n",
            "In epoch 450, loss: 0.201, val acc: 0.956 (best 0.970), test acc: 0.963\n",
            "In epoch 455, loss: 0.196, val acc: 0.956 (best 0.970), test acc: 0.963\n",
            "In epoch 460, loss: 0.191, val acc: 0.957 (best 0.970), test acc: 0.962\n",
            "In epoch 465, loss: 0.187, val acc: 0.958 (best 0.970), test acc: 0.962\n",
            "In epoch 470, loss: 0.183, val acc: 0.957 (best 0.970), test acc: 0.961\n",
            "In epoch 475, loss: 0.179, val acc: 0.957 (best 0.970), test acc: 0.961\n",
            "In epoch 480, loss: 0.175, val acc: 0.957 (best 0.970), test acc: 0.961\n",
            "In epoch 485, loss: 0.171, val acc: 0.958 (best 0.970), test acc: 0.961\n",
            "In epoch 490, loss: 0.168, val acc: 0.958 (best 0.970), test acc: 0.961\n",
            "In epoch 495, loss: 0.165, val acc: 0.961 (best 0.970), test acc: 0.961\n"
          ]
        }
      ]
    },
    {
      "cell_type": "code",
      "source": [
        "# Training Logic on UVU graph\n",
        "\n",
        "features = g_uvu.ndata[\"feature\"]\n",
        "labels = g_uvu.ndata[\"label\"]\n",
        "train_mask = g_uvu.ndata[\"train_mask\"]\n",
        "val_mask = g_uvu.ndata[\"val_mask\"]\n",
        "test_mask = g_uvu.ndata[\"test_mask\"]\n",
        "\n",
        "# Train initialization (on CPU)\n",
        "model = GraphSAGE(g_uvu.ndata['feature'].shape[1], 16) # , dataset.num_classes\n",
        "pred_uvu = train(g_uvu, model)"
      ],
      "metadata": {
        "id": "LE_MdTUT41Uj",
        "colab": {
          "base_uri": "https://localhost:8080/"
        },
        "outputId": "cb8fb4e9-3c5e-46ed-cfcd-67b8c216193c"
      },
      "execution_count": 19,
      "outputs": [
        {
          "output_type": "stream",
          "name": "stdout",
          "text": [
            "In epoch 0, loss: 1021.655, val acc: 0.000 (best 0.000), test acc: 0.000\n",
            "In epoch 5, loss: 402.143, val acc: 0.013 (best 0.013), test acc: 0.015\n",
            "In epoch 10, loss: 62.416, val acc: 0.411 (best 0.411), test acc: 0.407\n",
            "In epoch 15, loss: 30.713, val acc: 0.921 (best 0.921), test acc: 0.894\n",
            "In epoch 20, loss: 38.443, val acc: 0.922 (best 0.922), test acc: 0.895\n",
            "In epoch 25, loss: 36.081, val acc: 0.921 (best 0.924), test acc: 0.896\n",
            "In epoch 30, loss: 27.789, val acc: 0.919 (best 0.924), test acc: 0.895\n",
            "In epoch 35, loss: 15.446, val acc: 0.919 (best 0.924), test acc: 0.896\n",
            "In epoch 40, loss: 12.480, val acc: 0.581 (best 0.924), test acc: 0.574\n",
            "In epoch 45, loss: 5.575, val acc: 0.917 (best 0.924), test acc: 0.901\n",
            "In epoch 50, loss: 4.532, val acc: 0.813 (best 0.924), test acc: 0.778\n",
            "In epoch 55, loss: 2.635, val acc: 0.906 (best 0.924), test acc: 0.900\n",
            "In epoch 60, loss: 2.007, val acc: 0.933 (best 0.933), test acc: 0.929\n",
            "In epoch 65, loss: 1.672, val acc: 0.922 (best 0.946), test acc: 0.922\n",
            "In epoch 70, loss: 1.418, val acc: 0.939 (best 0.946), test acc: 0.939\n",
            "In epoch 75, loss: 1.104, val acc: 0.929 (best 0.946), test acc: 0.921\n",
            "In epoch 80, loss: 0.854, val acc: 0.939 (best 0.946), test acc: 0.937\n",
            "In epoch 85, loss: 0.771, val acc: 0.943 (best 0.948), test acc: 0.943\n",
            "In epoch 90, loss: 0.729, val acc: 0.949 (best 0.950), test acc: 0.951\n",
            "In epoch 95, loss: 0.662, val acc: 0.950 (best 0.950), test acc: 0.957\n",
            "In epoch 100, loss: 0.621, val acc: 0.947 (best 0.950), test acc: 0.950\n",
            "In epoch 105, loss: 0.607, val acc: 0.942 (best 0.951), test acc: 0.947\n",
            "In epoch 110, loss: 0.578, val acc: 0.949 (best 0.951), test acc: 0.952\n",
            "In epoch 115, loss: 0.556, val acc: 0.950 (best 0.951), test acc: 0.952\n",
            "In epoch 120, loss: 0.538, val acc: 0.950 (best 0.951), test acc: 0.954\n",
            "In epoch 125, loss: 0.522, val acc: 0.952 (best 0.952), test acc: 0.955\n",
            "In epoch 130, loss: 0.507, val acc: 0.951 (best 0.952), test acc: 0.955\n",
            "In epoch 135, loss: 0.492, val acc: 0.951 (best 0.952), test acc: 0.956\n",
            "In epoch 140, loss: 0.480, val acc: 0.950 (best 0.952), test acc: 0.956\n",
            "In epoch 145, loss: 0.469, val acc: 0.951 (best 0.952), test acc: 0.954\n",
            "In epoch 150, loss: 0.458, val acc: 0.951 (best 0.952), test acc: 0.954\n",
            "In epoch 155, loss: 0.448, val acc: 0.955 (best 0.955), test acc: 0.953\n",
            "In epoch 160, loss: 0.438, val acc: 0.958 (best 0.958), test acc: 0.954\n",
            "In epoch 165, loss: 0.428, val acc: 0.959 (best 0.959), test acc: 0.953\n",
            "In epoch 170, loss: 0.419, val acc: 0.959 (best 0.959), test acc: 0.953\n",
            "In epoch 175, loss: 0.410, val acc: 0.958 (best 0.959), test acc: 0.953\n",
            "In epoch 180, loss: 0.401, val acc: 0.959 (best 0.959), test acc: 0.951\n",
            "In epoch 185, loss: 0.393, val acc: 0.959 (best 0.959), test acc: 0.952\n",
            "In epoch 190, loss: 0.385, val acc: 0.958 (best 0.961), test acc: 0.952\n",
            "In epoch 195, loss: 0.379, val acc: 0.959 (best 0.961), test acc: 0.950\n",
            "In epoch 200, loss: 0.372, val acc: 0.959 (best 0.961), test acc: 0.949\n",
            "In epoch 205, loss: 0.365, val acc: 0.959 (best 0.961), test acc: 0.950\n",
            "In epoch 210, loss: 0.359, val acc: 0.959 (best 0.961), test acc: 0.951\n",
            "In epoch 215, loss: 0.352, val acc: 0.958 (best 0.961), test acc: 0.950\n",
            "In epoch 220, loss: 0.346, val acc: 0.959 (best 0.961), test acc: 0.950\n",
            "In epoch 225, loss: 0.338, val acc: 0.961 (best 0.961), test acc: 0.950\n",
            "In epoch 230, loss: 0.332, val acc: 0.961 (best 0.961), test acc: 0.951\n",
            "In epoch 235, loss: 0.326, val acc: 0.959 (best 0.961), test acc: 0.950\n",
            "In epoch 240, loss: 0.320, val acc: 0.958 (best 0.961), test acc: 0.950\n",
            "In epoch 245, loss: 0.315, val acc: 0.958 (best 0.961), test acc: 0.951\n",
            "In epoch 250, loss: 0.310, val acc: 0.959 (best 0.961), test acc: 0.950\n",
            "In epoch 255, loss: 0.305, val acc: 0.959 (best 0.961), test acc: 0.949\n",
            "In epoch 260, loss: 0.300, val acc: 0.959 (best 0.961), test acc: 0.949\n",
            "In epoch 265, loss: 0.296, val acc: 0.958 (best 0.961), test acc: 0.948\n",
            "In epoch 270, loss: 0.291, val acc: 0.958 (best 0.961), test acc: 0.950\n",
            "In epoch 275, loss: 0.286, val acc: 0.962 (best 0.962), test acc: 0.950\n",
            "In epoch 280, loss: 0.281, val acc: 0.962 (best 0.962), test acc: 0.950\n",
            "In epoch 285, loss: 0.276, val acc: 0.962 (best 0.962), test acc: 0.948\n",
            "In epoch 290, loss: 0.272, val acc: 0.958 (best 0.962), test acc: 0.948\n",
            "In epoch 295, loss: 0.268, val acc: 0.959 (best 0.962), test acc: 0.950\n",
            "In epoch 300, loss: 0.264, val acc: 0.959 (best 0.962), test acc: 0.951\n",
            "In epoch 305, loss: 0.260, val acc: 0.959 (best 0.962), test acc: 0.950\n",
            "In epoch 310, loss: 0.256, val acc: 0.959 (best 0.962), test acc: 0.950\n",
            "In epoch 315, loss: 0.253, val acc: 0.959 (best 0.962), test acc: 0.951\n",
            "In epoch 320, loss: 0.249, val acc: 0.961 (best 0.962), test acc: 0.950\n",
            "In epoch 325, loss: 0.246, val acc: 0.962 (best 0.962), test acc: 0.950\n",
            "In epoch 330, loss: 0.242, val acc: 0.962 (best 0.962), test acc: 0.950\n",
            "In epoch 335, loss: 0.239, val acc: 0.961 (best 0.962), test acc: 0.950\n",
            "In epoch 340, loss: 0.236, val acc: 0.961 (best 0.962), test acc: 0.951\n",
            "In epoch 345, loss: 0.233, val acc: 0.961 (best 0.962), test acc: 0.951\n",
            "In epoch 350, loss: 0.229, val acc: 0.959 (best 0.962), test acc: 0.951\n",
            "In epoch 355, loss: 0.227, val acc: 0.959 (best 0.962), test acc: 0.954\n",
            "In epoch 360, loss: 0.223, val acc: 0.961 (best 0.962), test acc: 0.953\n",
            "In epoch 365, loss: 0.220, val acc: 0.961 (best 0.962), test acc: 0.953\n",
            "In epoch 370, loss: 0.218, val acc: 0.961 (best 0.962), test acc: 0.953\n",
            "In epoch 375, loss: 0.215, val acc: 0.961 (best 0.962), test acc: 0.953\n",
            "In epoch 380, loss: 0.213, val acc: 0.961 (best 0.962), test acc: 0.952\n",
            "In epoch 385, loss: 0.222, val acc: 0.965 (best 0.965), test acc: 0.957\n",
            "In epoch 390, loss: 0.207, val acc: 0.961 (best 0.965), test acc: 0.956\n",
            "In epoch 395, loss: 0.218, val acc: 0.952 (best 0.965), test acc: 0.945\n",
            "In epoch 400, loss: 0.203, val acc: 0.961 (best 0.965), test acc: 0.951\n",
            "In epoch 405, loss: 0.203, val acc: 0.963 (best 0.965), test acc: 0.959\n",
            "In epoch 410, loss: 0.205, val acc: 0.957 (best 0.965), test acc: 0.945\n",
            "In epoch 415, loss: 0.198, val acc: 0.965 (best 0.965), test acc: 0.961\n",
            "In epoch 420, loss: 3.226, val acc: 0.941 (best 0.965), test acc: 0.926\n",
            "In epoch 425, loss: 2.399, val acc: 0.943 (best 0.965), test acc: 0.940\n",
            "In epoch 430, loss: 1.918, val acc: 0.793 (best 0.965), test acc: 0.781\n",
            "In epoch 435, loss: 1.256, val acc: 0.949 (best 0.965), test acc: 0.939\n",
            "In epoch 440, loss: 1.023, val acc: 0.959 (best 0.965), test acc: 0.944\n",
            "In epoch 445, loss: 1.953, val acc: 0.692 (best 0.969), test acc: 0.690\n",
            "In epoch 450, loss: 2.352, val acc: 0.956 (best 0.969), test acc: 0.944\n",
            "In epoch 455, loss: 2.312, val acc: 0.968 (best 0.969), test acc: 0.961\n",
            "In epoch 460, loss: 1.951, val acc: 0.958 (best 0.969), test acc: 0.953\n",
            "In epoch 465, loss: 1.697, val acc: 0.966 (best 0.969), test acc: 0.965\n",
            "In epoch 470, loss: 1.033, val acc: 0.936 (best 0.972), test acc: 0.938\n",
            "In epoch 475, loss: 0.650, val acc: 0.955 (best 0.972), test acc: 0.946\n",
            "In epoch 480, loss: 0.483, val acc: 0.934 (best 0.972), test acc: 0.935\n",
            "In epoch 485, loss: 0.379, val acc: 0.961 (best 0.975), test acc: 0.957\n",
            "In epoch 490, loss: 0.372, val acc: 0.975 (best 0.975), test acc: 0.966\n",
            "In epoch 495, loss: 0.341, val acc: 0.971 (best 0.975), test acc: 0.965\n"
          ]
        }
      ]
    },
    {
      "cell_type": "code",
      "source": [
        "print(pred_usu)\n",
        "print(pred_uvu)\n",
        "print(pred_upu)"
      ],
      "metadata": {
        "colab": {
          "base_uri": "https://localhost:8080/"
        },
        "id": "Tk6YFxrWz64S",
        "outputId": "fa6df1cb-4384-49fc-fea1-243adce6b449"
      },
      "execution_count": 20,
      "outputs": [
        {
          "output_type": "stream",
          "name": "stdout",
          "text": [
            "tensor([0, 0, 0,  ..., 0, 0, 0])\n",
            "tensor([0, 0, 0,  ..., 0, 0, 0])\n",
            "tensor([0, 0, 0,  ..., 0, 0, 0])\n"
          ]
        }
      ]
    },
    {
      "cell_type": "code",
      "source": [
        "print(torch.sum(pred_usu))\n",
        "print(torch.sum(pred_uvu))\n",
        "print(torch.sum(pred_upu))"
      ],
      "metadata": {
        "colab": {
          "base_uri": "https://localhost:8080/"
        },
        "id": "UPxdVc3H2HpW",
        "outputId": "01773da0-5aca-4a94-8441-45f73953f37f"
      },
      "execution_count": 21,
      "outputs": [
        {
          "output_type": "stream",
          "name": "stdout",
          "text": [
            "tensor(860)\n",
            "tensor(761)\n",
            "tensor(851)\n"
          ]
        }
      ]
    },
    {
      "cell_type": "code",
      "source": [
        "# Create Ensemble Predictor (insensitive)\n",
        "\n",
        "pred_ensemble_insens = (pred_usu + pred_uvu + pred_upu)/3\n",
        "\n",
        "# Define a positive case if 2/3 predictors individual models flag as fraudulent\n",
        "pred_ensemble_insens = torch.round(pred_ensemble_insens)\n",
        "print(torch.sum(pred_ensemble_insens))"
      ],
      "metadata": {
        "colab": {
          "base_uri": "https://localhost:8080/"
        },
        "id": "carNyhgb0PTX",
        "outputId": "71141314-7f59-4226-dbe3-94371f6f8c09"
      },
      "execution_count": 22,
      "outputs": [
        {
          "output_type": "stream",
          "name": "stdout",
          "text": [
            "tensor(764.)\n"
          ]
        }
      ]
    },
    {
      "cell_type": "code",
      "source": [
        "# Create Ensemble Predictor (sensitive)\n",
        "\n",
        "pred_ensemble_sens = (pred_usu + pred_uvu + pred_upu)\n",
        "\n",
        "# Define a positive case if 1/3 predictors individual models flag as fraudulent\n",
        "pred_ensemble_sens = pred_ensemble_sens.apply_(lambda x: 0 if x == 0 else 1)\n",
        "print(torch.sum(pred_ensemble_sens))"
      ],
      "metadata": {
        "colab": {
          "base_uri": "https://localhost:8080/"
        },
        "id": "qN-KdSop2XRQ",
        "outputId": "387b4a8d-65c1-4f88-ead9-9362076d4fc8"
      },
      "execution_count": 23,
      "outputs": [
        {
          "output_type": "stream",
          "name": "stdout",
          "text": [
            "tensor(1050)\n"
          ]
        }
      ]
    },
    {
      "cell_type": "code",
      "source": [
        "print(pred_usu.shape)\n",
        "print(pred_uvu.shape)\n",
        "print(pred_upu.shape)\n",
        "print(pred_ensemble_insens.shape)\n",
        "print(pred_ensemble_sens.shape)\n",
        "print(torch.sum(pred_usu))\n",
        "print(torch.sum(pred_uvu))\n",
        "print(torch.sum(pred_upu))\n",
        "print(torch.sum(pred_ensemble_insens))\n",
        "print(torch.sum(pred_ensemble_sens))"
      ],
      "metadata": {
        "colab": {
          "base_uri": "https://localhost:8080/"
        },
        "id": "E52F56QK0--0",
        "outputId": "b9882898-07d2-4706-ade8-741e5e91dc66"
      },
      "execution_count": 24,
      "outputs": [
        {
          "output_type": "stream",
          "name": "stdout",
          "text": [
            "torch.Size([11944])\n",
            "torch.Size([11944])\n",
            "torch.Size([11944])\n",
            "torch.Size([11944])\n",
            "torch.Size([11944])\n",
            "tensor(860)\n",
            "tensor(761)\n",
            "tensor(851)\n",
            "tensor(764.)\n",
            "tensor(1050)\n"
          ]
        }
      ]
    },
    {
      "cell_type": "code",
      "source": [
        "labels = g_upu.ndata[\"label\"]\n",
        "val_acc = (pred_upu[val_mask] == labels[val_mask]).float().mean()\n",
        "test_acc = (pred_upu[test_mask] == labels[test_mask]).float().mean()\n",
        "print(val_acc)\n",
        "print(test_acc)\n",
        "\n",
        "y_pred = pred_upu[val_mask]\n",
        "y_test =  labels[val_mask]\n",
        "\n",
        "# Calculate accuracy\n",
        "accuracy = accuracy_score(y_test, y_pred)\n",
        "print(\"Accuracy:\", accuracy)\n",
        "\n",
        "# Calculate AUC\n",
        "AUC = roc_auc_score(y_test, y_pred)\n",
        "print(\"AUC:\", AUC)\n",
        "\n",
        "# Calculate F1-score\n",
        "f1 = f1_score(y_test, y_pred)\n",
        "print(\"F1-Score:\", f1)\n",
        "\n",
        "# Calculate precision\n",
        "precision = precision_score(y_test, y_pred)\n",
        "print(\"Precision:\", precision)"
      ],
      "metadata": {
        "colab": {
          "base_uri": "https://localhost:8080/"
        },
        "id": "TI2jbF948Pbu",
        "outputId": "299e70e1-4843-48ec-e71e-7610938325f9"
      },
      "execution_count": 34,
      "outputs": [
        {
          "output_type": "stream",
          "name": "stdout",
          "text": [
            "tensor(0.9722)\n",
            "tensor(0.9618)\n",
            "Accuracy: 0.9721900347624566\n",
            "AUC: 0.893107769423559\n",
            "F1-Score: 0.8125\n",
            "Precision: 0.8253968253968254\n"
          ]
        }
      ]
    },
    {
      "cell_type": "code",
      "source": [
        "labels = g_usu.ndata[\"label\"]\n",
        "val_acc = (pred_usu[val_mask] == labels[val_mask]).float().mean()\n",
        "test_acc = (pred_usu[test_mask] == labels[test_mask]).float().mean()\n",
        "print(val_acc)\n",
        "print(test_acc)\n",
        "\n",
        "y_pred = pred_usu[val_mask]\n",
        "y_test =  labels[val_mask]\n",
        "\n",
        "# Calculate accuracy\n",
        "accuracy = accuracy_score(y_test, y_pred)\n",
        "print(\"Accuracy:\", accuracy)\n",
        "\n",
        "# Calculate AUC\n",
        "AUC = roc_auc_score(y_test, y_pred)\n",
        "print(\"AUC:\", AUC)\n",
        "\n",
        "# Calculate F1-score\n",
        "f1 = f1_score(y_test, y_pred)\n",
        "print(\"F1-Score:\", f1)\n",
        "\n",
        "# Calculate precision\n",
        "precision = precision_score(y_test, y_pred)\n",
        "print(\"Precision:\", precision)"
      ],
      "metadata": {
        "colab": {
          "base_uri": "https://localhost:8080/"
        },
        "id": "9jMxGGMhBFqJ",
        "outputId": "560771b7-0a33-4f6a-f5cf-eecc22339367"
      },
      "execution_count": 35,
      "outputs": [
        {
          "output_type": "stream",
          "name": "stdout",
          "text": [
            "tensor(0.9618)\n",
            "tensor(0.9601)\n",
            "Accuracy: 0.9617612977983777\n",
            "AUC: 0.8592057065741276\n",
            "F1-Score: 0.7441860465116279\n",
            "Precision: 0.75\n"
          ]
        }
      ]
    },
    {
      "cell_type": "code",
      "source": [
        "labels = g_uvu.ndata[\"label\"]\n",
        "val_acc = (pred_uvu[val_mask] == labels[val_mask]).float().mean()\n",
        "test_acc = (pred_uvu[test_mask] == labels[test_mask]).float().mean()\n",
        "print(val_acc)\n",
        "print(test_acc)\n",
        "\n",
        "y_pred = pred_uvu[val_mask]\n",
        "y_test =  labels[val_mask]\n",
        "\n",
        "# Calculate accuracy\n",
        "accuracy = accuracy_score(y_test, y_pred)\n",
        "print(\"Accuracy:\", accuracy)\n",
        "\n",
        "# Calculate AUC\n",
        "AUC = roc_auc_score(y_test, y_pred)\n",
        "print(\"AUC:\", AUC)\n",
        "\n",
        "# Calculate F1-score\n",
        "f1 = f1_score(y_test, y_pred)\n",
        "print(\"F1-Score:\", f1)\n",
        "\n",
        "# Calculate precision\n",
        "precision = precision_score(y_test, y_pred)\n",
        "print(\"Precision:\", precision)"
      ],
      "metadata": {
        "colab": {
          "base_uri": "https://localhost:8080/"
        },
        "id": "7pzkUc9lBnzn",
        "outputId": "e344424a-315f-475d-aec1-3bb3078b11bf"
      },
      "execution_count": 36,
      "outputs": [
        {
          "output_type": "stream",
          "name": "stdout",
          "text": [
            "tensor(0.9733)\n",
            "tensor(0.9647)\n",
            "Accuracy: 0.9733487833140209\n",
            "AUC: 0.8796028532870638\n",
            "F1-Score: 0.8130081300813008\n",
            "Precision: 0.8620689655172413\n"
          ]
        }
      ]
    },
    {
      "cell_type": "code",
      "source": [
        "labels = g_upu.ndata[\"label\"]\n",
        "val_acc = (pred_ensemble_sens[val_mask] == labels[val_mask]).float().mean()\n",
        "test_acc = (pred_ensemble_sens[test_mask] == labels[test_mask]).float().mean()\n",
        "print(val_acc)\n",
        "print(test_acc)\n",
        "\n",
        "y_pred = pred_ensemble_sens[val_mask]\n",
        "y_test =  labels[val_mask]\n",
        "\n",
        "# Calculate accuracy\n",
        "accuracy = accuracy_score(y_test, y_pred)\n",
        "print(\"Accuracy:\", accuracy)\n",
        "\n",
        "# Calculate AUC\n",
        "AUC = roc_auc_score(y_test, y_pred)\n",
        "print(\"AUC:\", AUC)\n",
        "\n",
        "# Calculate F1-score\n",
        "f1 = f1_score(y_test, y_pred)\n",
        "print(\"F1-Score:\", f1)\n",
        "\n",
        "# Calculate precision\n",
        "precision = precision_score(y_test, y_pred)\n",
        "print(\"Precision:\", precision)"
      ],
      "metadata": {
        "colab": {
          "base_uri": "https://localhost:8080/"
        },
        "id": "yahfZlo1B-WC",
        "outputId": "b09bf55c-8b2c-4da5-d8cc-c945aae5a6e1"
      },
      "execution_count": 37,
      "outputs": [
        {
          "output_type": "stream",
          "name": "stdout",
          "text": [
            "tensor(0.9594)\n",
            "tensor(0.9520)\n",
            "Accuracy: 0.9594438006952491\n",
            "AUC: 0.9003470213996531\n",
            "F1-Score: 0.7552447552447553\n",
            "Precision: 0.6923076923076923\n"
          ]
        }
      ]
    },
    {
      "cell_type": "code",
      "source": [
        "labels = g_upu.ndata[\"label\"]\n",
        "val_acc = (pred_ensemble_insens[val_mask] == labels[val_mask]).float().mean()\n",
        "test_acc = (pred_ensemble_insens[test_mask] == labels[test_mask]).float().mean()\n",
        "\n",
        "print(\n",
        "          f\"val acc: {val_acc:.3f}, test acc: {test_acc:.3f}\"\n",
        "      )\n",
        "\n",
        "y_pred = pred_ensemble_insens[val_mask]\n",
        "y_test =  labels[val_mask]\n",
        "\n",
        "# Calculate accuracy\n",
        "accuracy = accuracy_score(y_test, y_pred)\n",
        "print(\"Accuracy:\", accuracy)\n",
        "\n",
        "# Calculate AUC\n",
        "AUC = roc_auc_score(y_test, y_pred)\n",
        "print(\"AUC:\", AUC)\n",
        "\n",
        "# Calculate F1-score\n",
        "f1 = f1_score(y_test, y_pred)\n",
        "print(\"F1-Score:\", f1)\n",
        "\n",
        "# Calculate precision\n",
        "precision = precision_score(y_test, y_pred)\n",
        "print(\"Precision:\", precision)"
      ],
      "metadata": {
        "colab": {
          "base_uri": "https://localhost:8080/"
        },
        "id": "2nN6zKhSBoYw",
        "outputId": "d8da6ef9-4982-4789-b29c-a7540b7b39ea"
      },
      "execution_count": 38,
      "outputs": [
        {
          "output_type": "stream",
          "name": "stdout",
          "text": [
            "val acc: 0.972, test acc: 0.969\n",
            "Accuracy: 0.9721900347624566\n",
            "AUC: 0.8789762868710238\n",
            "F1-Score: 0.8064516129032259\n",
            "Precision: 0.847457627118644\n"
          ]
        }
      ]
    },
    {
      "cell_type": "code",
      "source": [
        "print(val_acc)"
      ],
      "metadata": {
        "id": "xCM9OQOaBgWL"
      },
      "execution_count": null,
      "outputs": []
    },
    {
      "cell_type": "code",
      "source": [
        "# Visualization with TSNE\n",
        "\n",
        "# Import necessary libraries for TSNE\n",
        "import sklearn\n",
        "from sklearn.manifold import TSNE\n",
        "import matplotlib.pyplot as plt\n",
        "import seaborn as sns\n",
        "import numpy as np\n",
        "import pandas as pd"
      ],
      "metadata": {
        "id": "RPrxtCy-41R6"
      },
      "execution_count": null,
      "outputs": []
    },
    {
      "cell_type": "code",
      "source": [
        "# Create dimension-reduction\n",
        "\n",
        "# For ground truth and ensemble predictors, use USU TSNE dimensionality reduction\n",
        "\n",
        "# Based on https://builtin.com/data-science/tsne-python\n",
        "tsne_data = model(g_usu, features).detach().numpy()\n",
        "\n",
        "tsne = TSNE(n_components=2, verbose = 1)\n",
        "tsne_results = tsne.fit_transform(model(g_usu, features).detach().numpy())"
      ],
      "metadata": {
        "id": "C6BQuRuw3FlU"
      },
      "execution_count": null,
      "outputs": []
    },
    {
      "cell_type": "code",
      "source": [
        "# Plot Ground Truth\n",
        "\n",
        "# Dimensionality based on USU\n",
        "\n",
        "labels = g_usu.ndata[\"label\"]\n",
        "predicted = labels.detach().numpy()\n",
        "\n",
        "tsne_2d_one = tsne_results[:,0]\n",
        "tsne_2d_two = tsne_results[:,1]\n",
        "\n",
        "df = pd.DataFrame({'x':tsne_2d_one, 'y':tsne_2d_two, 'pred':predicted})\n",
        "\n",
        "# Show the df\n",
        "# df\n",
        "\n",
        "# Plot labelling using TSNE\n",
        "plt.figure(figsize=(16,10))\n",
        "sns.scatterplot(\n",
        "    x=\"x\", y=\"y\",\n",
        "    hue=\"pred\",\n",
        "    palette=sns.color_palette(\"bright\", 2),\n",
        "    data=df,\n",
        "    legend=\"full\",\n",
        "    alpha=0.3\n",
        ")"
      ],
      "metadata": {
        "id": "R60AIWNVlLf5"
      },
      "execution_count": null,
      "outputs": []
    },
    {
      "cell_type": "code",
      "source": [
        "# Plot Insensitive Prediction\n",
        "predicted = pred_ensemble_insens.detach().numpy()\n",
        "\n",
        "tsne_2d_one = tsne_results[:,0]\n",
        "tsne_2d_two = tsne_results[:,1]\n",
        "\n",
        "df = pd.DataFrame({'x':tsne_2d_one, 'y':tsne_2d_two, 'pred':predicted})\n",
        "\n",
        "# Show the df\n",
        "# df\n",
        "\n",
        "# Plot labelling using TSNE\n",
        "plt.figure(figsize=(16,10))\n",
        "sns.scatterplot(\n",
        "    x=\"x\", y=\"y\",\n",
        "    hue=\"pred\",\n",
        "    palette=sns.color_palette(\"bright\", 2),\n",
        "    data=df,\n",
        "    legend=\"full\",\n",
        "    alpha=0.3\n",
        ")"
      ],
      "metadata": {
        "id": "T57zvmPq5TXC"
      },
      "execution_count": null,
      "outputs": []
    },
    {
      "cell_type": "code",
      "source": [
        "# Plot Sensitive Prediction\n",
        "predicted = pred_ensemble_sens.detach().numpy()\n",
        "\n",
        "tsne_2d_one = tsne_results[:,0]\n",
        "tsne_2d_two = tsne_results[:,1]\n",
        "\n",
        "df = pd.DataFrame({'x':tsne_2d_one, 'y':tsne_2d_two, 'pred':predicted})\n",
        "\n",
        "# Show the df\n",
        "# df\n",
        "\n",
        "# Plot labelling using TSNE\n",
        "plt.figure(figsize=(16,10))\n",
        "sns.scatterplot(\n",
        "    x=\"x\", y=\"y\",\n",
        "    hue=\"pred\",\n",
        "    palette=sns.color_palette(\"bright\", 2),\n",
        "    data=df,\n",
        "    legend=\"full\",\n",
        "    alpha=0.3\n",
        ")"
      ],
      "metadata": {
        "id": "phoHYwQj5TZw"
      },
      "execution_count": null,
      "outputs": []
    },
    {
      "cell_type": "code",
      "source": [
        "# Plot USU Prediction\n",
        "\n",
        "# Use USU Data Reduction\n",
        "predicted = pred_usu.detach().numpy()\n",
        "\n",
        "df = pd.DataFrame({'x':tsne_2d_one, 'y':tsne_2d_two, 'pred':predicted})\n",
        "\n",
        "# Show the df\n",
        "# df\n",
        "\n",
        "# Plot labelling using TSNE\n",
        "plt.figure(figsize=(16,10))\n",
        "sns.scatterplot(\n",
        "    x=\"x\", y=\"y\",\n",
        "    hue=\"pred\",\n",
        "    palette=sns.color_palette(\"bright\", 2),\n",
        "    data=df,\n",
        "    legend=\"full\",\n",
        "    alpha=0.3\n",
        ")"
      ],
      "metadata": {
        "id": "JpdTQSq05TUd"
      },
      "execution_count": null,
      "outputs": []
    },
    {
      "cell_type": "code",
      "source": [
        "# Plot UPU Prediction\n",
        "\n",
        "# Create dimension-reduction\n",
        "\n",
        "# Based on https://builtin.com/data-science/tsne-python\n",
        "tsne_data = model(g_upu, features).detach().numpy()\n",
        "\n",
        "tsne = TSNE(n_components=2, verbose = 1)\n",
        "tsne_results = tsne.fit_transform(model(g_upu, features).detach().numpy())\n",
        "\n",
        "predicted = pred_upu.detach().numpy()\n",
        "\n",
        "tsne_2d_one = tsne_results[:,0]\n",
        "tsne_2d_two = tsne_results[:,1]\n",
        "\n",
        "df = pd.DataFrame({'x':tsne_2d_one, 'y':tsne_2d_two, 'pred':predicted})\n",
        "\n",
        "# Show the df\n",
        "# df\n",
        "\n",
        "# Plot labelling using TSNE\n",
        "plt.figure(figsize=(16,10))\n",
        "sns.scatterplot(\n",
        "    x=\"x\", y=\"y\",\n",
        "    hue=\"pred\",\n",
        "    palette=sns.color_palette(\"bright\", 2),\n",
        "    data=df,\n",
        "    legend=\"full\",\n",
        "    alpha=0.3\n",
        ")"
      ],
      "metadata": {
        "id": "MNXyO8Ff5TRo"
      },
      "execution_count": null,
      "outputs": []
    },
    {
      "cell_type": "code",
      "source": [
        "# Plot UVU Prediction\n",
        "\n",
        "# Create dimension-reduction\n",
        "\n",
        "# Based on https://builtin.com/data-science/tsne-python\n",
        "tsne_data = model(g_uvu, features).detach().numpy()\n",
        "\n",
        "tsne = TSNE(n_components=2, verbose = 1)\n",
        "tsne_results = tsne.fit_transform(model(g_uvu, features).detach().numpy())\n",
        "\n",
        "predicted = pred_uvu.detach().numpy()\n",
        "\n",
        "tsne_2d_one = tsne_results[:,0]\n",
        "tsne_2d_two = tsne_results[:,1]\n",
        "\n",
        "df = pd.DataFrame({'x':tsne_2d_one, 'y':tsne_2d_two, 'pred':predicted})\n",
        "\n",
        "# Show the df\n",
        "# df\n",
        "\n",
        "# Plot labelling using TSNE\n",
        "plt.figure(figsize=(16,10))\n",
        "sns.scatterplot(\n",
        "    x=\"x\", y=\"y\",\n",
        "    hue=\"pred\",\n",
        "    palette=sns.color_palette(\"bright\", 2),\n",
        "    data=df,\n",
        "    legend=\"full\",\n",
        "    alpha=0.3\n",
        ")"
      ],
      "metadata": {
        "id": "VjR73tSl5TPE"
      },
      "execution_count": null,
      "outputs": []
    }
  ]
}